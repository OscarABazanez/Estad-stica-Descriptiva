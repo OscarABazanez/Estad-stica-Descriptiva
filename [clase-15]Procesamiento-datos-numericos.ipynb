{
 "cells": [
  {
   "cell_type": "markdown",
   "source": "# Escalamiento de datos numéricos",
   "metadata": {
    "tags": [],
    "cell_id": "00000-3ae783b8-e68c-4e50-8584-76d9afd6d731",
    "deepnote_cell_type": "markdown"
   }
  },
  {
   "cell_type": "markdown",
   "source": "### Transformaciones lineales",
   "metadata": {
    "tags": [],
    "cell_id": "00001-1fa33800-9e78-4de9-9f32-8a55be925f26",
    "deepnote_cell_type": "markdown"
   }
  },
  {
   "cell_type": "code",
   "metadata": {
    "tags": [],
    "cell_id": "00000-dd8388cc-7c25-45a6-8492-0cb9cad04e24",
    "deepnote_to_be_reexecuted": false,
    "source_hash": "f9ac71d",
    "execution_start": 1624405766186,
    "execution_millis": 1,
    "deepnote_cell_type": "code"
   },
   "source": "import timeit\nimport numpy as np\nimport pandas as pd \nimport matplotlib.pyplot as plt\nfrom sklearn import datasets, linear_model\n\nX, y = datasets.load_diabetes(return_X_y=True)\nraw = X[:, None, 2]",
   "execution_count": 45,
   "outputs": []
  },
  {
   "cell_type": "markdown",
   "source": "La transformación: **raw = X[:, None, 2]**\n\nEsta transformación puede crear un poco de confusión si no conoces algunos detalles sobre NumPy. Para las dudas te detallo un poco que hizo en esta línea de código.\n\n**Note**: X tiene un shape de (442, 10) para nuestro estudio solo necesitamos una columna, buscamos tener un raw con shape (442, 1)\n\n1. **:** Toma todas las columnas y filas.\n2. **None** indica la transformación del arreglo (newaxis)\n3. **2** Selecciona la 3ra columna de X.\nMás información sobre Numpy Newaxis https://numpy.org/doc/stable/reference/constants.html#numpy.newaxis",
   "metadata": {
    "tags": [],
    "cell_id": "00003-e0139120-c679-4ff1-8508-e5eb9dfd928a",
    "deepnote_cell_type": "markdown"
   }
  },
  {
   "cell_type": "markdown",
   "source": "Detalles del dataset: https://scikit-learn.org/stable/modules/generated/sklearn.datasets.load_diabetes.html",
   "metadata": {
    "tags": [],
    "cell_id": "00001-de96f906-18e2-433d-98c3-2a6675f1ddf9",
    "deepnote_cell_type": "markdown"
   }
  },
  {
   "cell_type": "code",
   "metadata": {
    "tags": [],
    "cell_id": "00001-7b52d2b4-5e9d-4d35-a045-d3697bd31a44",
    "deepnote_to_be_reexecuted": false,
    "source_hash": "1e111047",
    "execution_start": 1624405769090,
    "execution_millis": 262,
    "output_cleared": false,
    "deepnote_cell_type": "code"
   },
   "source": "# escalamiento max-min\nmax_raw = max(raw)\nmin_raw = min(raw)\n\nscaled = (2*raw - max_raw - min_raw)/(max_raw - min_raw)\n\n# es importante tener una noción de los datos originales antes y después de escalarlos:\n\nfig, axs = plt.subplots(2,1, sharex=True )\n\naxs[0].hist(raw)\naxs[1].hist(scaled)",
   "execution_count": 46,
   "outputs": [
    {
     "output_type": "execute_result",
     "execution_count": 46,
     "data": {
      "text/plain": "(array([32., 66., 98., 90., 64., 50., 23., 12.,  5.,  2.]),\n array([-1. , -0.8, -0.6, -0.4, -0.2,  0. ,  0.2,  0.4,  0.6,  0.8,  1. ]),\n <BarContainer object of 10 artists>)"
     },
     "metadata": {}
    },
    {
     "data": {
      "text/plain": "<Figure size 432x288 with 2 Axes>",
      "image/png": "[encoded data removed]"
     },
     "metadata": {
      "needs_background": "light",
      "image/png": {
       "width": 375,
       "height": 250
      }
     },
     "output_type": "display_data"
    }
   ]
  },
  {
   "cell_type": "code",
   "metadata": {
    "tags": [],
    "cell_id": "00002-a231b2cb-c0fa-43ef-a3e5-283ee2343e48",
    "deepnote_to_be_reexecuted": false,
    "source_hash": "db725d1e",
    "execution_start": 1624405769662,
    "execution_millis": 1,
    "deepnote_cell_type": "code"
   },
   "source": "# modelos para entrenamiento\n\ndef train_raw():\n    linear_model.LinearRegression().fit(raw, y)\n\ndef train_scaled():\n    linear_model.LinearRegression().fit(scaled, y)",
   "execution_count": 47,
   "outputs": []
  },
  {
   "cell_type": "code",
   "metadata": {
    "tags": [],
    "cell_id": "00004-95df3b96-b7bf-4957-9030-aee0179e31dd",
    "deepnote_to_be_reexecuted": false,
    "source_hash": "d2ef4ec8",
    "execution_start": 1624405770425,
    "execution_millis": 74,
    "output_cleared": false,
    "deepnote_cell_type": "code"
   },
   "source": "raw_time = timeit.timeit(train_raw, number=100) #repite la ejecución del código 100 veces y sobre eso calcula el tiempo\nscaled_time = timeit.timeit(train_scaled, number=100)\nprint(f'train raw: {raw_time}')\nprint(f'train scaled: {scaled_time}')",
   "execution_count": 48,
   "outputs": [
    {
     "name": "stdout",
     "text": "train raw: 0.036052374001883436\ntrain scaled: 0.0326226309989579\n",
     "output_type": "stream"
    }
   ]
  },
  {
   "cell_type": "markdown",
   "source": "* max-min scaling: mejor para datos uniformemente distribuidos\n* z-score scaling: mejor para datos distribuidos \"normalmente\" (forma de campana de gauss)",
   "metadata": {
    "tags": [],
    "cell_id": "00006-39c52400-be54-4471-a6c6-e0bebbd7a48f",
    "deepnote_cell_type": "markdown"
   }
  },
  {
   "cell_type": "code",
   "source": "# escalamiento Z-score\navg = np.average(raw) #Promedio\nstd = np.std(raw) #Desviacion estandar\n\nz_scaled = (raw-avg)/std\n\n# modelos para entrenamiento\n\ndef train_raw_z_score():\n    linear_model.LinearRegression().fit(raw, y)\n\ndef train_z_score():\n    linear_model.LinearRegression().fit(z_scaled, y)\n\nraw_time = timeit.timeit(train_raw_z_score, number= 1000)\nz_scaled_time = timeit.timeit(train_z_score, number = 1000)\n\nprint(f'train raw: {raw_time}')\nprint(f'train scaled: {z_scaled_time}')\n\n# es importante tener una noción de los datos originales antes y después de escalarlos:\n",
   "metadata": {
    "tags": [],
    "cell_id": "00009-34a13b56-297b-47e8-98c6-ed531068c9eb",
    "deepnote_to_be_reexecuted": false,
    "source_hash": "48d63003",
    "execution_start": 1624406445124,
    "execution_millis": 730,
    "deepnote_cell_type": "code"
   },
   "outputs": [
    {
     "name": "stdout",
     "text": "train raw: 0.33296715399774257\ntrain scaled: 0.3839859700019588\n",
     "output_type": "stream"
    }
   ],
   "execution_count": 56
  },
  {
   "cell_type": "code",
   "source": "fig, axs = plt.subplots(2,1, sharex=True )\n\naxs[0].hist(raw)\naxs[1].hist(z_scaled)",
   "metadata": {
    "tags": [],
    "cell_id": "00010-584f4d77-a55f-4874-b7e1-a65151b6df7e",
    "deepnote_to_be_reexecuted": false,
    "source_hash": "b3024d72",
    "execution_start": 1624406646753,
    "execution_millis": 162,
    "deepnote_cell_type": "code"
   },
   "outputs": [
    {
     "output_type": "execute_result",
     "execution_count": 62,
     "data": {
      "text/plain": "(array([32., 66., 98., 90., 64., 50., 23., 12.,  5.,  2.]),\n array([-1.89792941, -1.34956464, -0.80119987, -0.2528351 ,  0.29552967,\n         0.84389444,  1.39225921,  1.94062398,  2.48898875,  3.03735352,\n         3.58571828]),\n <BarContainer object of 10 artists>)"
     },
     "metadata": {}
    },
    {
     "data": {
      "text/plain": "<Figure size 432x288 with 2 Axes>",
      "image/png": "[encoded data removed]"
     },
     "metadata": {
      "needs_background": "light",
      "image/png": {
       "width": 375,
       "height": 250
      }
     },
     "output_type": "display_data"
    }
   ],
   "execution_count": 62
  },
  {
   "cell_type": "markdown",
   "source": "Utilidades de Scikit Learn : https://scikit-learn.org/stable/modules/preprocessing.html",
   "metadata": {
    "tags": [],
    "cell_id": "00006-3645f92d-c7c3-4f2c-8ff6-19b158f1e589",
    "deepnote_cell_type": "markdown"
   }
  },
  {
   "cell_type": "markdown",
   "source": "### Transformaciones no lineales",
   "metadata": {
    "tags": [],
    "cell_id": "00009-8f892a43-fc2d-4765-9df6-220b21698953",
    "deepnote_cell_type": "markdown"
   }
  },
  {
   "cell_type": "code",
   "metadata": {
    "tags": [],
    "cell_id": "00010-c3f4aea0-11c5-41b0-9d6d-db691ef3fe1c",
    "deepnote_to_be_reexecuted": false,
    "source_hash": "f2d578bb",
    "execution_start": 1624405772405,
    "execution_millis": 153,
    "deepnote_cell_type": "code"
   },
   "source": "df = pd.read_csv('cars.csv')",
   "execution_count": 49,
   "outputs": []
  },
  {
   "cell_type": "code",
   "metadata": {
    "tags": [],
    "cell_id": "00011-2eb046f6-9ec1-4791-a79a-c7b651c4d276",
    "deepnote_to_be_reexecuted": false,
    "source_hash": "1d9343bd",
    "execution_start": 1624405772906,
    "execution_millis": 115,
    "output_cleared": false,
    "deepnote_cell_type": "code"
   },
   "source": "df.price_usd.hist()",
   "execution_count": 50,
   "outputs": [
    {
     "output_type": "execute_result",
     "execution_count": 50,
     "data": {
      "text/plain": "<AxesSubplot:>"
     },
     "metadata": {}
    },
    {
     "data": {
      "text/plain": "<Figure size 432x288 with 1 Axes>",
      "image/png": "[encoded data removed]"
     },
     "metadata": {
      "needs_background": "light",
      "image/png": {
       "width": 388,
       "height": 248
      }
     },
     "output_type": "display_data"
    }
   ]
  },
  {
   "cell_type": "markdown",
   "source": "Transformación con $$tanh(x)$$",
   "metadata": {
    "tags": [],
    "cell_id": "00012-e7d44a5d-9df4-41fb-a0d9-d1467e02f7c5",
    "deepnote_cell_type": "markdown"
   }
  },
  {
   "cell_type": "code",
   "metadata": {
    "tags": [],
    "cell_id": "00012-4d7c01b7-67e1-4528-83b8-53f72c22bd71",
    "deepnote_to_be_reexecuted": false,
    "source_hash": "91b4f0f9",
    "execution_start": 1624405825787,
    "execution_millis": 163,
    "output_cleared": false,
    "deepnote_cell_type": "code"
   },
   "source": "# Transformación con tanh(x)\n\n# Esta línea toma la columna y le aplica a toda una función matemática\np = 10000\ndf.price_usd.apply(lambda x : np.tanh(x/p)).hist()",
   "execution_count": 54,
   "outputs": [
    {
     "output_type": "execute_result",
     "execution_count": 54,
     "data": {
      "text/plain": "<AxesSubplot:>"
     },
     "metadata": {}
    },
    {
     "data": {
      "text/plain": "<Figure size 432x288 with 1 Axes>",
      "image/png": "[encoded data removed]"
     },
     "metadata": {
      "needs_background": "light",
      "image/png": {
       "width": 381,
       "height": 248
      }
     },
     "output_type": "display_data"
    }
   ]
  },
  {
   "cell_type": "markdown",
   "source": "* mapear datos a una distribucion gaussiana: https://scikit-learn.org/stable/auto_examples/preprocessing/plot_map_data_to_normal.html#sphx-glr-auto-examples-preprocessing-plot-map-data-to-normal-py",
   "metadata": {
    "tags": [],
    "cell_id": "00014-043435bf-21c9-4ffc-9036-2a1dd7b298ee",
    "deepnote_cell_type": "markdown"
   }
  },
  {
   "cell_type": "code",
   "source": "",
   "metadata": {
    "tags": [],
    "cell_id": "00016-833dacbc-17ce-4dd7-9d7c-539f0e329eaa",
    "deepnote_to_be_reexecuted": false,
    "source_hash": "1ef66349",
    "execution_start": 1624405360354,
    "execution_millis": 3834,
    "deepnote_cell_type": "code"
   },
   "outputs": [
    {
     "name": "stdout",
     "text": "Automatically created module for IPython interactive environment\n",
     "output_type": "stream"
    },
    {
     "data": {
      "text/plain": "<Figure size 288x576 with 24 Axes>",
      "image/png": "[encoded data removed]"
     },
     "metadata": {
      "needs_background": "light",
      "image/png": {
       "width": 285,
       "height": 568
      }
     },
     "output_type": "display_data"
    }
   ],
   "execution_count": 39
  },
  {
   "cell_type": "markdown",
   "source": "<a style='text-decoration:none;line-height:16px;display:flex;color:#5B5B62;padding:10px;justify-content:end;' href='https://deepnote.com?utm_source=created-in-deepnote-cell&projectId=c7269bf3-db96-4ae8-8627-d789ea473aa9' target=\"_blank\">\n<img alt='Created in deepnote.com' style='display:inline;max-height:16px;margin:0px;margin-right:7.5px;' src='data:image/svg+xml;base64,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' > </img>\nCreated in <span style='font-weight:600;margin-left:4px;'>Deepnote</span></a>",
   "metadata": {
    "tags": [],
    "created_in_deepnote_cell": true,
    "deepnote_cell_type": "markdown"
   }
  }
 ],
 "nbformat": 4,
 "nbformat_minor": 2,
 "metadata": {
  "orig_nbformat": 2,
  "deepnote": {
   "is_reactive": false
  },
  "deepnote_notebook_id": "dc0e8e2f-767c-4d0a-bdda-fe85e29fb72b",
  "deepnote_execution_queue": []
 }
}